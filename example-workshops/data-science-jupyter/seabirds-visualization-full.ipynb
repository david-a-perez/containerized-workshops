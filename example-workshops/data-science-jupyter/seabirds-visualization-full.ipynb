{
 "cells": [
  {
   "cell_type": "code",
   "execution_count": null,
   "id": "bc328cd2",
   "metadata": {},
   "outputs": [],
   "source": [
    "import matplotlib.pyplot as plt\n",
    "import numpy as np\n",
    "import pandas as pd\n",
    "import seaborn as sns\n",
    "\n",
    "%matplotlib inline"
   ]
  },
  {
   "cell_type": "code",
   "execution_count": null,
   "id": "01b6ebfc",
   "metadata": {},
   "outputs": [],
   "source": [
    "df = pd.read_csv(\"flight-data.csv\")\n",
    "df.drop(columns = [\"Unnamed: 0\"], inplace = True)\n",
    "df.head()"
   ]
  },
  {
   "cell_type": "code",
   "execution_count": null,
   "id": "ab57a352",
   "metadata": {},
   "outputs": [],
   "source": [
    "# Task: visualize number of colonies / species and distribution of each.\n",
    "\n",
    "filtered = df[[\"bird\", \"species\", \"colony2\"]]\n",
    "outer = filtered.groupby([\"colony2\"])[\"bird\"].nunique()\n",
    "inner = filtered.groupby([\"colony2\", \"species\"])[\"bird\"].nunique()\n",
    "\n",
    "outer_labels = outer.index\n",
    "inner_labels = inner.index.get_level_values(1)\n",
    "\n",
    "fig = plt.figure(figsize = (12, 12))\n",
    "ax = fig.add_subplot()\n",
    "\n",
    "colormap = plt.cm.get_cmap(\"tab20c\")\n",
    "outer_colors = colormap(np.arange(10))\n",
    "inner_colors = {\"tRAZO\" : \"#c2c2f0\",\n",
    "                \"tEUSH\" : \"#ffb3e6\",\n",
    "                \"tCOGU\" : \"#f79ea6\"}\n",
    "\n",
    "outer_explode = [0.005] * len(outer_labels)\n",
    "inner_explode = [0.005] * len(inner_labels)\n",
    "\n",
    "size = 0.3\n",
    "\n",
    "_ = ax.pie(outer.values.flatten(), radius = 1, labels = outer_labels,\n",
    "           colors = outer_colors, explode = outer_explode,\n",
    "           wedgeprops = dict(width = size, edgecolor = \"w\"), rotatelabels = True)\n",
    "\n",
    "patches, _ = ax.pie(inner.values.flatten(), radius = 1 - size,\n",
    "                    colors = [inner_colors[key] for key in inner_labels], explode = inner_explode,\n",
    "                    wedgeprops = dict(width = size, edgecolor = \"w\"), rotatelabels = True)\n",
    "\n",
    "_ = ax.legend(patches[0:3], inner_labels)"
   ]
  },
  {
   "cell_type": "code",
   "execution_count": null,
   "id": "e6c37c0c",
   "metadata": {},
   "outputs": [],
   "source": [
    "# Task: location distribution of birds based on species (pair plot).\n",
    "\n",
    "bird_locations = df.groupby([\"bird\"])[[\"lat\", \"lon\"]].mean()\n",
    "bird_species = df.groupby([\"bird\"])[\"species\"].unique().apply(lambda x : x[0])\n",
    "bird_total = pd.concat([bird_locations, bird_species], axis = 1)\n",
    "\n",
    "_ = sns.pairplot(bird_total, hue = \"species\")"
   ]
  },
  {
   "cell_type": "code",
   "execution_count": null,
   "id": "82d9b144",
   "metadata": {},
   "outputs": [],
   "source": [
    "# Task: individual track of bird as a function of its altitude, latitude, and longitude.\n",
    "\n",
    "bird_of_interest = 1\n",
    "\n",
    "single_bird_df = df[df[\"bird\"] == bird_of_interest]\n",
    "single_bird_df.reset_index(inplace = True)\n",
    "\n",
    "fig = plt.figure(figsize = (12, 12))\n",
    "ax = fig.add_subplot(projection = \"3d\")\n",
    "\n",
    "result = ax.scatter(single_bird_df[\"lat\"], single_bird_df[\"lon\"], \n",
    "                    single_bird_df[\"alt\"], c = single_bird_df.index)\n",
    "ax.set_xlabel(\"Latitude\")\n",
    "ax.set_ylabel(\"Longitude\")\n",
    "ax.set_zlabel(\"Altitude\")\n",
    "\n",
    "fig.colorbar(result)\n",
    "plt.show()"
   ]
  }
 ],
 "metadata": {
  "kernelspec": {
   "display_name": "Python 3.9.7 64-bit",
   "language": "python",
   "name": "python3"
  },
  "language_info": {
   "codemirror_mode": {
    "name": "ipython",
    "version": 3
   },
   "file_extension": ".py",
   "mimetype": "text/x-python",
   "name": "python",
   "nbconvert_exporter": "python",
   "pygments_lexer": "ipython3",
   "version": "3.10.9"
  },
  "vscode": {
   "interpreter": {
    "hash": "aee8b7b246df8f9039afb4144a1f6fd8d2ca17a180786b69acc140d282b71a49"
   }
  }
 },
 "nbformat": 4,
 "nbformat_minor": 5
}
